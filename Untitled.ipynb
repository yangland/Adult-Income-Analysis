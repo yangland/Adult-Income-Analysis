{
 "cells": [
  {
   "cell_type": "code",
   "execution_count": 6,
   "id": "f4b223ee-29c2-4b9c-9544-3b398663910b",
   "metadata": {},
   "outputs": [],
   "source": [
    "import numpy as np\n",
    "import torch\n",
    "from sklearn.model_selection import train_test_split\n",
    "from torch.utils.data import TensorDataset"
   ]
  },
  {
   "cell_type": "code",
   "execution_count": 7,
   "id": "6c280290-4dfd-45f9-94d8-2a29b43f2c31",
   "metadata": {},
   "outputs": [],
   "source": [
    "X, y = np.arange(10).reshape((5, 2)), range(5)"
   ]
  },
  {
   "cell_type": "code",
   "execution_count": 12,
   "id": "3fe71ea8-8e15-43b3-8d58-59b2e43e4b1c",
   "metadata": {},
   "outputs": [
    {
     "data": {
      "text/plain": [
       "array([[0, 1],\n",
       "       [2, 3],\n",
       "       [4, 5],\n",
       "       [6, 7],\n",
       "       [8, 9]])"
      ]
     },
     "execution_count": 12,
     "metadata": {},
     "output_type": "execute_result"
    }
   ],
   "source": [
    "X"
   ]
  },
  {
   "cell_type": "code",
   "execution_count": 13,
   "id": "669f6408-0c8c-4a0a-8c2e-3fe6e4aeac1f",
   "metadata": {},
   "outputs": [
    {
     "data": {
      "text/plain": [
       "range(0, 5)"
      ]
     },
     "execution_count": 13,
     "metadata": {},
     "output_type": "execute_result"
    }
   ],
   "source": [
    "y"
   ]
  },
  {
   "cell_type": "code",
   "execution_count": 8,
   "id": "ba6cc50c-2508-480e-96f4-32c98b75658b",
   "metadata": {},
   "outputs": [],
   "source": [
    "adult_data_tensor = TensorDataset(torch.tensor(X), torch.tensor(y))"
   ]
  },
  {
   "cell_type": "code",
   "execution_count": 9,
   "id": "dfefe4f9-557c-460a-a23b-5d493caf1509",
   "metadata": {},
   "outputs": [
    {
     "data": {
      "text/plain": [
       "<torch.utils.data.dataset.TensorDataset at 0x1eaffdd49a0>"
      ]
     },
     "execution_count": 9,
     "metadata": {},
     "output_type": "execute_result"
    }
   ],
   "source": [
    "adult_data_tensor"
   ]
  },
  {
   "cell_type": "code",
   "execution_count": 15,
   "id": "f175fcf3-d843-46fd-bb3f-7e00849c6252",
   "metadata": {},
   "outputs": [],
   "source": [
    "train_data, test_data = train_test_split(adult_data_tensor, test_size=0.2)"
   ]
  },
  {
   "cell_type": "code",
   "execution_count": 16,
   "id": "70ad81e7-a07d-4e0a-8b98-dcd68c3f39c8",
   "metadata": {},
   "outputs": [
    {
     "data": {
      "text/plain": [
       "[(tensor([6, 7], dtype=torch.int32), tensor(3)),\n",
       " (tensor([4, 5], dtype=torch.int32), tensor(2)),\n",
       " (tensor([2, 3], dtype=torch.int32), tensor(1)),\n",
       " (tensor([0, 1], dtype=torch.int32), tensor(0))]"
      ]
     },
     "execution_count": 16,
     "metadata": {},
     "output_type": "execute_result"
    }
   ],
   "source": [
    "train_data"
   ]
  },
  {
   "cell_type": "code",
   "execution_count": 17,
   "id": "04735663-5bd6-4552-9a0d-901e52b082b5",
   "metadata": {},
   "outputs": [
    {
     "data": {
      "text/plain": [
       "[(tensor([8, 9], dtype=torch.int32), tensor(4))]"
      ]
     },
     "execution_count": 17,
     "metadata": {},
     "output_type": "execute_result"
    }
   ],
   "source": [
    "test_data"
   ]
  },
  {
   "cell_type": "code",
   "execution_count": null,
   "id": "658516eb-660f-42e8-a873-c496ef1f074a",
   "metadata": {},
   "outputs": [],
   "source": []
  },
  {
   "cell_type": "code",
   "execution_count": null,
   "id": "2349c3d6-d131-4f2d-8a8a-1e9a1577a37d",
   "metadata": {},
   "outputs": [],
   "source": []
  }
 ],
 "metadata": {
  "kernelspec": {
   "display_name": "Python 3 (ipykernel)",
   "language": "python",
   "name": "python3"
  },
  "language_info": {
   "codemirror_mode": {
    "name": "ipython",
    "version": 3
   },
   "file_extension": ".py",
   "mimetype": "text/x-python",
   "name": "python",
   "nbconvert_exporter": "python",
   "pygments_lexer": "ipython3",
   "version": "3.10.13"
  }
 },
 "nbformat": 4,
 "nbformat_minor": 5
}
